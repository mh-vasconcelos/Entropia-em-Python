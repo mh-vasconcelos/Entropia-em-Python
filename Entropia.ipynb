{
  "nbformat": 4,
  "nbformat_minor": 0,
  "metadata": {
    "colab": {
      "provenance": []
    },
    "kernelspec": {
      "name": "python3",
      "display_name": "Python 3"
    },
    "language_info": {
      "name": "python"
    }
  },
  "cells": [
    {
      "cell_type": "code",
      "execution_count": null,
      "metadata": {
        "id": "qE_C90YKdn-c"
      },
      "outputs": [],
      "source": [
        "import math\n",
        "import numpy as np\n",
        "import seaborn as sns\n",
        "import pandas as pd\n",
        "import matplotlib.pyplot as plt\n",
        "import random\n",
        "from scipy.stats import norm\n",
        "\n"
      ]
    },
    {
      "cell_type": "markdown",
      "source": [
        "\n",
        "## Entropia\n",
        "A Entropia de Shannon, proposta por Claude Shannon na década de 1940, é uma medida matemática da quantidade de informação ou surpresa associada a um evento ou sistema. Ela é amplamente utilizada na teoria da informação e na ciência da computação.\n",
        "\n",
        "A Entropia de Shannon para um sistema com\n",
        "n eventos possíveis, cada um com uma probabilidade Pi, é dada pela seguinte fórmula:\n",
        "![image.png](data:image/png;base64,iVBORw0KGgoAAAANSUhEUgAAASUAAAA7CAYAAAA9zJwoAAAAAXNSR0IArs4c6QAAAARnQU1BAACxjwv8YQUAAAAJcEhZcwAAEnQAABJ0Ad5mH3gAABJGSURBVHhe7Z0PVFNXnse/ux7SOiBWqlh0lWgBnRPrCqelWKBWC+mfeHpEp9jO+uewolW0pTCoqMC0YC1WtyyO/waxTJWOLTOWjkvc0+CMuprlz7LAuLyVIXQMRUhFDCMlRcPh7N6b9wIBkpAXCMZyP+cE3rsJL+/f/d7fv3f5u+7ue/8HBoPBcBP+XvjNYDAYbgETJQaD4VYwUWIwGG4FEyUGg+FWMFFiMBhuBRMlBoPhVjBRYjAYbgUTJQaD4VYwUWIwGG4FEyUGg+FWMFFiMBhuBRMlBoPhVjBRYjAYbgUTJQaD4VYwUWIwGG4FEyWGyzA21+JCaS2aOvl1fb0ayiIVyuvb+AYGwwpMlBiuoUONfCUQ2F2C9amHUXgoD2UIxJIlj6H6vRTklvUIH2QwBsJEieES9Fdq4PfyIkyCEWhtw5SfbYJivi+8pkvhP6MHutsdwicZjIG4z3S4vS1QZuRAt/pDxC/0EBpdg165F3u/W43sDYGQCG3jio6LSP+nPFwRVkcDv1WZOEPOZx/dxBKaCJTvX4cMrzSotsqE9krkrsoBdp9CYoRrr/O4o7MW+dtLIM1MQ9R0oW0UGat+I0qU9JpaaPXCyiC8n1yEgKlkoV2L6m/+xjcOxmcOQgInCysW9LZBmZqCK5EHkf2ar9A4iN67aKy6ASE8MZBpZLtz+e0amznUtQ51Dfr2z4QB3JFf4CO8jROks4w/YeoBd/xtbD13lyxPxprsXzk+EHQb0NV5G03XanBBpYSSM1BbiJxgBfI/W4OACaZP8fRyOLpqL/Tv5CNtmSffVlMA+R4DMs9uQxgRrYeWDnKfN7RAd70BunvA48/FImahcIwPAgM511t+BST9CxKCXbUfY9NvRIiSAeU5u5HPkVu6ow1N3aRJ4kk6OjkBnjPwRuJORM0FuioKkHGiFp3dHWjsoOLgAZ/pU+Az4SeQxryFNIXUtDVLGk9uRkLTWnyZGQ4voW0InWSETf4M/4P7+K71LrqEZq8pvghevQNZr800rTcVpSDpty3Qm3oK2UVvX8z2+gkUOz9EjMVAjl4NCuOyULeaCKHChhD+mKEDwfZEHKgny1PlOHIsDjJn7uVbZHTO+hiFfwViPzhFOoTQTtEWIz6hBjEFmVCYRu4eVB/cgFRsQ0nKPGhKb8I/Wmb7mrszXBHic/7Udy+Gbc61PaC6nLu4kvE28v3T8amlteoKxqDfOOG+GcgJiEd6FenwCguzfBBdf9qP5QdryYfIDX+W3PCWI6gl5MbdmqBG1NGDiBmqV1ZpzItH/FcGsu1wfHxmG0IGjbhNpxOxvlSK7emboAi03dOMVw+TfTQgvWAnIqcIjeOJVhVSEwpQTgRcsiQJJTtDnRv9BEs3dzoVm/5t6JUZWHk6CPmfEwvK1MIhf8VeGFKI6/YPJTjw36HYvoofTB5Wms6Qe+102wMVJf4+BjI/I9bnGBhrru43TgS6tfjLNX5J8Y9B/IIVmhqISUVZLEOgLUGi1tcXxeCCFYh2UJAoAa/EwCSFRjXOlxFxssBI3IOM0kVk5E+yK0gUyeKXsO5RMtJ/qRFaxhkz5Eh7Z5FJRIyXDyPjnJOp+gm+ULyXjBVVF1Fh4V/rtBr4LXtWECTKNEgDPdD+FxVyix/DmhUPtyBRJnlaCUeMJTQW+1s1Hn/1pTERJIqr+414UdI2mEZWIBCy+bbiEC1oqOLjOmEL5tkefW+p8dXlHsS8EiHOhJ/1DF6dzy9e+GNlnyuHZiUyDv0N8dkOuiITAhEW7Ymmf/sa1dQdHYd4LduGbHIOqGtV/slhKFv5dtF4LiIu/Bzcv9Ufz5NtPDXInfBF1IFTSH9djsSkpfCzOVgxHOaaCse0voiVu9hts8TF/Ua0KOm5GjTShRnBCOwLHA/iFocK083ti2dltkcSfcVVlGMRQkRn23yx5BXBbaxRorSZ/KauyLsViPwgCZEz+LccISAkHBJjJcppbGVc4omQTUmIpdfSqMGB1EI09vLviMVncSyiiCXUh8QDEivCI/FmWbfRgvvPizB6P4OnRHgao4Er+41IUepBQx1vskmeDoK/aWkoRg2xpuiCZBGCbJ4sA7gqsq0ZQZjtLTSJwCtCjhiTCdaCot8X4mjql5idthMKEYJk4skgPE+O60r1OHXhKJ4yJOxW8NezXYms4xyfUfsx0GtAY2kR8o8Xo/qWua2NtBWTtgIUX25Bl5Mi7BAdWpQX5WFvYiKS389D0TkOejvfZ2zV4EJRAb9vpRroyIXo0lwk93ci4uP3oqjeMrOsQc0Vsh5M+pDQMgRXHb8L+41IUWpAXRm/9LxttYHmz5X8Ao0n8UtWEGJTgTPhxzeIY2IoFK/yPpqu9BLwjpOpUG9fSIko6upvwEa1w/hg/hpkb+brT5qUOcivGhirezjpAXdiN/LbZZjXrUTyWxlQVqiQvi6HDJoLEC0Pwp3f7cIbGSroXCBMutIcrI/7Neqmy5GQtQ+Zm+Xw+SYPb8Tl4MoQN5mIx8ldWJ5wGA2PhmLxc8GY9M0nWB+7Dht/8wPkGxTwa+WQf6lB+Dyh/QbqOonVMnumjRCJC4/fhf1GXPbNlOIt4t03BwjbehzZChvuWztxt9YVoFyRhks2MnjDUl+IN5OV0MEDMeknkbjYGbegDcrkRBxoVVhkiezTVLQLWaofhDWxWClPcBeELNoBjoy+kkCk/TrTJUV4YwYtEt3zAxKOKvDIuQysPE5G9alyfHw4DiFm67wqDy9kXERUikUtFaW3B11GD3gNU0ulF7Y7OPtGs88rD3JQ7D6GxAjLwdKA8v1bkFoWimyLbJmx7DCWZ6kxe+1B5L9pTgC0oDg+BbntfJZZepPD/Rky+Jk3d60A8lQVQmxl/lx6/OL7jaOIspT640mx+PT8GVyy9joVhzDTp+3HkyAoc9isafyCWHrvorzkv3DHNET0oLjkan/AWxRT8DjteJ09uM83DIv/qkz868f7nHxluqcgUUxZtG28W2zU4KODrrEgxoquKjV6Xn7GZInrWrXkpwdikyw6JGUCP5BduE7fN2PAlX0bsPzdYjLgOUF3JU4eqiUucAQiF1sKEsUTYS9GkPOrRu5n/a5PXbna5DI/NctSXDwgoftKPktjNz6BFoJEIdeG/s3sAX/Tj2uPX3y/cRQRotQfT/JbvMB2PKnekXjSSDGAO74TxyZuwqdmK8sc8BaNByaJrd4jF9LL29PJlwhrjlaxV9Si2olXY7uwDbF4hmLLL+Wm62vkCrC3qIVvfwiRzI/BlkjaYc3ZYBmeetL0Vh/61hv8QpdQmW7CE7JX1iAtRe5caKGeg5JubL4UUmsZRkEIdOevQiicwSOC//W9sX8vRoprj9+JfuMgIkSpP54UNs9OPKnOkXgSgZiHzp5+3Vf7kaNfi+zNZOSwCHgrrz68HcidkATHYofJ7SY3nqczLrF7IJklgz8t7msXssHzgyGztBIIOi1vIUgmew6Iy/g8LUfUMHVuttA337B/b8+YyXsTxhvQCsHnwOd4AeAaLYJNvT/AQOu+vOVYIpTADID0IXs8qOMfKY6L0mjWJ1HIaGH3fRvoiG+8UR2BrN3hfJ2LRcC78Q8XnUhn9+B7sX4f9bc76TNgzrzs30gDmDAZAc8uQogTr/7n/JzHX7ETmaNRpUzP12jWs7S32c1gDcZsvfvJ5sCHbxIQsldEfPsKgQ0tqD6nQrl2BIH+4eqv+gZkT3gLMRtJ8FLEkGumO38YB86qibWrRvG+bBxtlyI+PRYya7EdweIaDtccvxP9xkEcFiX9tdGrTzIhXLjy5tv8ggPQau3U38/B/vfIqGJx4fsqvDtVUFaK6PQmOnCHjlbErXqEbxiWprMZeDd5t5OvDBSPfhZ1VNGd24+d2pUmS9SZgWMgI4zPmOk2QP9XDhdO70d8/GGUiXBPeevdA5Ehg2x3bR0uUUtkqhyKUNLBuzkU5lbCe6EHLiTsh9KcQheJz5NBvNtT32L9mG+1oZr+li5AgNlyqb+KYlkSSgqS8Ko3eb+mBZLnf4EzRR9ija1KYNIH6PX5ttl+Jb5rjl98v3EUB0VJqCkijLw+SWDqTATQMzrAl7UNFaSNOcAOaw+OzlqEKNP3ORPwvosOKqRBc/AE3zAs/rEfIj8/18mXm2beBGwJv/OMMD4joCsrwuVveiD18USjKL/fbL3TeZz4Fp4ecEolGWgnIzYpxjS7QddVNSSvk+V7LeAsrBjRzJdjg4xaMRwarMQ5m+pryU8PRP0sov+cdPdA19SCO95SyKJjEL85FoolgfCzNyoQNzCE/Go32BuIXXX84vuNo9gXJbObcqsW1cLzbs9Lp/FtFjeG0eSWtKFCLcSTgqXwoW12T5YU8xaSXxobownBaCDbaNbgQt4urNyjwvcLyQhkZY+NBg/4my2zGiXO19P9IWLniIlP9ltLaz1+Kn04n1YfTVpVyNh7A7GOPqbjIKMRn/BbFoeYaOKWzhC5HXM8hbgqV8r6LYquqkJ8pDQicmtmX32bV0QcYsmA0fgfl6B7OgLBg+IvAxD6hk5Pp38hX6O/bXHP+SIqaQ0iJ7bg2CHlwAxmsxLHvmgzucY7lll4E1N9IdMWYes6WiRpfu3C3kMFyC9So8nanHhT52AB2cfGb1tsD+yuOn4X9hu7dUrVOeuQXGpdWMyTehkr8rD8/YvWTwqdY8dODYPubArePDkNWZ/vROTgEyDUYAzZ7tPbUGI5xYmtzxFkGw7iyHBPoZvm91Fj3YF8YiYLbeOR0ZiPx0gGAzLCeplHdxqf+CMH48JwhElHJkp9kOv1wp4b2N43HYp96BPt8n1q+EUr8OK1S/jf+eEIMNTifLMUW3ZbmUVCmAOqh85kYG8SOtN+qISVfmI/OEPOn7DSqYXy2GEcq+zCE1Ook3Mf33V4IXr9NmxQkM5saYnSGrE9iTggDP5DmQxFSia2L7OM8fFTwSRXyW32M1cev6v6jRNTl4wiZNTY+lYhgh7gLISNJ+MRX/rC0AnKxhNC0aTdSfaGhc7pk4X2fxamoKHxiZwGhP38MXyecBHBFiJCLWubI/sgJJ6eA5+fEylK3JF12Krsn+uJ/26JzdIMUxHjfiCbFivWXoRu4dKRW43UqjLQI7bxvcL5z8VqnPhAAX9Ll438rb7pKk6/l4fizqFT9fBFlxpsOZprdeofVx2/K/uN49k3VzArAjHkRBX/u7OFjyOkV4PyUgNkry8dv4JkqvnKQJF0ZJk2Y82XyG8NR4jQMWzHJ+5Cd12DBodeWty5J/yZU7SgoYZa+v31OZJhasU01WogeilCJC24/GcJ/EfDwOura7PxvRoVCrkerPj5IEGikL/1mbsUie8sJSe5EoMfNZOEvoR13m0oUlnLnrjo+F3cbx6sKBGTNGotuRC08NGyoHSMMJZ9jVP3wrH25Yd/Xh9noZm29NaRZdq6rhUi6X0VPF4M7UuC2I5PTIa/lRIG669BFcxiMWeD51pkuYbBTxoIv64GFB8sxqTX7MyEOppM8TWdt2+bbGfRdDdvkp9BkM7i1/uYEIgVmxbhzvmvUT44i++i43d1v3nAokSYvxo7XuvCsU/UY2stEbUvyqskfnrcmE2O5W7QTFv6lQgcyXQu02Zs5VC8LxErU5XgjL5QLLa4SSeS0biXg+q8ATHy0DFOItxFU4Uayt+ohGxwB1mvBWdl7vbB+CgycWKbnNwX2xAldsYJZ5kuR2JKKHR5GThwloPOsqaruwXVebuwMU+LyK2bEGVlpkevZXHYEViJY5+brSUXHv8Y9JsHG1MyMyoxDTGMzQTobo1pKtwiGBeHI+ynQQiYbucOu9eGxustwj9t6MF31zlobgrztJuhz0PmxwwoF7Een9CiODkHSn5jwzANb/wyDVGW1oEjMSWjFhc+uYjBxvc8eRwi5wor7gid5qS0BEriinG0QJS4vQFTpXhKvhQrosP56mxbWCYqZLdddPxj02/cQ5Qo7F8sjR3dHPLf2otCZ5+Ps0LAgKfbebgjbyIJaVBtfgzFJ7SI3jwK7pDIQPe4Yjz+iyUGQwz0Hwck1QVjBVowae3I3CF9aQ52fKHt+0869L/YPDERkCflInY8l3L8CGGixHAptAAWjw5K6zMYdmCixGAw3IoHn31jMBgMC5goMRgMt4KJEoPBcCuYKDEYDLeCiRKDwXArmCgxGAy3gokSg8FwK5goMRgMt4KJEoPBcCuYKDEYDLeCiRKDwXArmCgxGAy3gokSg8FwI4D/B63t2YROHroQAAAAAElFTkSuQmCC)\n",
        "\n",
        "Aqui,\n",
        "- H(X) é a entropia do sistema X\n",
        "- Pi é a probabilidade do evento e o somatório percorre todos os eventos possíveis.\n",
        "\n",
        "Essa medida quantifica o grau de incerteza ou surpresa associado ao sistema. Quanto maior a entropia, maior a incerteza. A entropia é máxima quando todos os eventos são igualmente prováveis.\n",
        "\n",
        "Talvez você se pergunte porque diabos o cálculo da entropia envolve logaritmos (pesadelo de muitos alunos) mas é por uma questão de necessidade como mostrarei ja já.\n",
        "\n",
        "Para casos onde X é uma variável aleatória com uma função densidade associada, temos que a entropia será dada por:\n",
        "![image.png](data:image/png;base64,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)\n",
        "\n",
        "- A função densidade de probabilidade (PDF) é utilizada para descrever a probabilidade relativa de uma variável aleatória contínua assumir determinados valores em todo o seu espaço amostral. Essa função representa a distribuição de probabilidade da variável.\n",
        "- Para calcular a entropia total do sistema, podemos realizar uma integração da função densidade de probabilidade ao longo de todo o espaço amostral. Isso nos dá uma medida da incerteza total ou surpresa associada à variável aleatória contínua.\n",
        "\n",
        "Mas vale lembrar:\n",
        " - Distribuição Contínua (como a Uniforme Contínua ou a Normal): Pode-se utilizar a função densidade de probabilidade (PDF) para descrever a probabilidade de um evento ocorrer em um intervalo específico.\n",
        " - Distribuição Discreta (como a Bernoulli, Binomial, etc.): Não é apropriado usar a função densidade de probabilidade (PDF) porque nesses casos a probabilidade é concentrada em valores discretos. Para esses casos, usamos o PMF (Função de Massa de Probabilidade)\n",
        "\n",
        "#### Vamos testar três casos:\n",
        "1. Uma caixa onde há uma bola verde e seis azuis\n",
        "2. Uma caixa onde há duas bolas verde e cinco azuis\n",
        "3. Uma caixa onde há três bolas verdes e quatro azuis\n",
        "\n",
        "\n"
      ],
      "metadata": {
        "id": "Ta6J6kJLlBnk"
      }
    },
    {
      "cell_type": "markdown",
      "source": [
        "# 0"
      ],
      "metadata": {
        "id": "2T40TEo0THCo"
      }
    },
    {
      "cell_type": "code",
      "source": [
        "#Criando a função para tal:\n",
        "\n",
        "def calcular_entropia(probabilidades):\n",
        "  entropia = 0\n",
        "\n",
        "  for p in probabilidades:\n",
        "    if p != 0:\n",
        "      entropia = entropia - p * math.log(p)\n",
        "\n",
        "  return entropia\n"
      ],
      "metadata": {
        "id": "hu3KMZu-TKrb"
      },
      "execution_count": null,
      "outputs": []
    },
    {
      "cell_type": "markdown",
      "source": [
        "# 1° Caso"
      ],
      "metadata": {
        "id": "P6Gi_6Tfl0FO"
      }
    },
    {
      "cell_type": "code",
      "source": [
        "probabilidades = [1/7, 6/7]\n",
        "\n",
        "entropia_bolas = calcular_entropia(probabilidades)\n",
        "surpresa_esperada = 1 / entropia_bolas\n",
        "\n",
        "print(f\"A entropia das bolas na caixa é: {entropia_bolas}\")\n",
        "print(f\"A surpresa esperada ao retirar uma bola é: {surpresa_esperada}\")\n",
        "\n"
      ],
      "metadata": {
        "colab": {
          "base_uri": "https://localhost:8080/"
        },
        "id": "-V_9efg3ko9b",
        "outputId": "ed4fc25c-1274-4ac9-c620-06fef9b83a61"
      },
      "execution_count": null,
      "outputs": [
        {
          "output_type": "stream",
          "name": "stdout",
          "text": [
            "A entropia das bolas na caixa é: 0.410116318288409\n",
            "A surpresa esperada ao retirar uma bola é: 2.438332627615083\n"
          ]
        }
      ]
    },
    {
      "cell_type": "markdown",
      "source": [
        "# 2° Caso"
      ],
      "metadata": {
        "id": "8Bygp26yl2tT"
      }
    },
    {
      "cell_type": "code",
      "source": [
        "probabilidades = [2/7, 5/7]\n",
        "\n",
        "entropia_bolas = calcular_entropia(probabilidades)\n",
        "surpresa_esperada = 1 / entropia_bolas\n",
        "print(f\"A entropia das bolas na caixa é: {entropia_bolas}\")\n",
        "print(f\"A surpresa esperada ao retirar uma bola é: {surpresa_esperada}\")"
      ],
      "metadata": {
        "colab": {
          "base_uri": "https://localhost:8080/"
        },
        "id": "SXuMmXPCkpAA",
        "outputId": "ba9fe442-4823-4f74-ea03-8568d9d3c336"
      },
      "execution_count": null,
      "outputs": [
        {
          "output_type": "stream",
          "name": "stdout",
          "text": [
            "A entropia das bolas na caixa é: 0.5982695885852573\n",
            "A surpresa esperada ao retirar uma bola é: 1.6714872677461752\n"
          ]
        }
      ]
    },
    {
      "cell_type": "markdown",
      "source": [
        "# 3° Caso"
      ],
      "metadata": {
        "id": "AP-wcr3hl5kL"
      }
    },
    {
      "cell_type": "code",
      "source": [
        "probabilidades = [3/7, 4/7]\n",
        "\n",
        "entropia_bolas = calcular_entropia(probabilidades)\n",
        "surpresa_esperada = 1 / entropia_bolas\n",
        "print(f\"A entropia das bolas na caixa é: {entropia_bolas}\")\n",
        "print(f\"A surpresa esperada ao retirar uma bola é: {surpresa_esperada}\")\n"
      ],
      "metadata": {
        "colab": {
          "base_uri": "https://localhost:8080/"
        },
        "id": "-T7aXb92kpBt",
        "outputId": "6149cc3b-754d-4a89-c72f-9557185e3415"
      },
      "execution_count": null,
      "outputs": [
        {
          "output_type": "stream",
          "name": "stdout",
          "text": [
            "A entropia das bolas na caixa é: 0.6829081047004717\n",
            "A surpresa esperada ao retirar uma bola é: 1.4643258633438052\n"
          ]
        }
      ]
    },
    {
      "cell_type": "markdown",
      "source": [
        "Percebeu que conforme eu vou colocando mais variação de bolinhas na caixa (azuis e verdes cada vez mais misturadas) a entropia aumenta e a surpresa diminui?\n",
        "\n",
        "É bem intuitivo pensar isso. Se eu tenho mais bolinhas, tanto azuis como verdes, **eu não ficarei surpreso se sair verde ou azul, porque o sistema está mais desorganizado e aleatório**. Por isso, há uma relação inversa aqui:\n",
        "\n",
        ">  ## ➕ Entropia  ➖ Surpresa\n",
        "> ##  ➖ Entropia  ➕Surpresa\n"
      ],
      "metadata": {
        "id": "ec7HZkVuWiK3"
      }
    },
    {
      "cell_type": "markdown",
      "source": [
        "### Por que Logaritmo?\n",
        "Aqui vou explicar porque usamos logaritmos nas fórmulas da entropia.\n",
        "- Primeiro, sabemos que entropia está ligada a probabilidade, como vimos antes.\n",
        "- Segundo, e consequentemente, a probabilidade tem valor máximo igual a 1\n",
        "- Terceiro, o logaritmo de 1 é sempre 0\n",
        "\n",
        "Deu pra pegar a ideia já? Se não, veja como calculamos a surpresa usando o primeiro exemplo.\n",
        "\n",
        "Lembre-se que o a surpresa que calculamos antes foi a **surpresa média**. Vamos agora verificar a surpresa pra cada evento"
      ],
      "metadata": {
        "id": "AEELITnDY48p"
      }
    },
    {
      "cell_type": "markdown",
      "source": [
        "## a) Sem Logaritmo"
      ],
      "metadata": {
        "id": "c43FyNOoeXIL"
      }
    },
    {
      "cell_type": "code",
      "source": [
        "probabilidades = [1/7, 6/7]\n",
        "\n",
        "# Surpresa se eu tirar a bola verde\n",
        "surpresa_v = 1 / probabilidades[0]\n",
        "\n",
        "# Surpresa se eu tirar a bola azul\n",
        "surpresa_a= 1 /probabilidades[1]\n",
        "\n",
        "print(f\"Surpresa se tirar uma bola verde: {surpresa_v}\")\n",
        "print(f\"Surpresa se tirar uma bola azul: {surpresa_a}\")"
      ],
      "metadata": {
        "colab": {
          "base_uri": "https://localhost:8080/"
        },
        "id": "6AhwkXXyYV8j",
        "outputId": "274d91f1-df49-470b-e9fe-ecfdf9b84b7e"
      },
      "execution_count": null,
      "outputs": [
        {
          "output_type": "stream",
          "name": "stdout",
          "text": [
            "Surpresa se tirar uma bola verde: 7.0\n",
            "Surpresa se tirar uma bola azul: 1.1666666666666667\n"
          ]
        }
      ]
    },
    {
      "cell_type": "markdown",
      "source": [
        "Claramente, ficaria mais surpreso se tirar uma bola verde. Mas perceba que a fórmula para a surpresa é:\n",
        "\n",
        "![image.png](data:image/png;base64,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)"
      ],
      "metadata": {
        "id": "PbPTbRIAa8nD"
      }
    },
    {
      "cell_type": "markdown",
      "source": [
        "## Gráfico\n",
        "O gráfico dela seria mais ou menos assim:"
      ],
      "metadata": {
        "id": "U7uVw18Ibsn1"
      }
    },
    {
      "cell_type": "code",
      "source": [
        "\n",
        "y_values = [1/p for p in probabilidades]\n",
        "\n",
        "params = np.polyfit(probabilidades, np.log(y_values), 1)\n",
        "a, b = params\n",
        "\n",
        "\n",
        "x_fit = np.linspace(min(probabilidades), 10, 100)\n",
        "y_fit = np.exp(a * x_fit + b)\n",
        "plt.plot(x_fit, y_fit, color='red', label='Curva de Ajuste')\n",
        "\n",
        "\n",
        "plt.xlabel('P')\n",
        "plt.ylabel('Surpresa')\n",
        "plt.title('Gráfico da Surpresa')\n",
        "\n",
        "# Exibindo o gráfico\n",
        "plt.show()"
      ],
      "metadata": {
        "colab": {
          "base_uri": "https://localhost:8080/",
          "height": 472
        },
        "id": "AS6Qtx2ab5ND",
        "outputId": "8a303e67-61e2-4b07-9bef-a247edc289ff"
      },
      "execution_count": null,
      "outputs": [
        {
          "output_type": "display_data",
          "data": {
            "text/plain": [
              "<Figure size 640x480 with 1 Axes>"
            ],
            "image/png": "[encoded data removed]"
          },
          "metadata": {}
        }
      ]
    },
    {
      "cell_type": "markdown",
      "source": [
        "Note que conforme a probabilidade aumenta, a surpresa tende a zero, mas nunca é zero.\n",
        "\n",
        "Como probabilidades estão entre 0 e 1, devemos ajustar o gráfico para que quando:\n",
        "> Probabilidade = 1, então Surpresa = 0\n",
        "\n",
        "E para isso que serve o logaritmo no nosso caso:"
      ],
      "metadata": {
        "id": "_VGmurFFdo1w"
      }
    },
    {
      "cell_type": "markdown",
      "source": [
        "## b) Com Logaritmo"
      ],
      "metadata": {
        "id": "paK67HmUeelE"
      }
    },
    {
      "cell_type": "code",
      "source": [
        "surpresa_v = math.log(surpresa_v)\n",
        "surpresa_a = math.log(surpresa_a)\n",
        "print(f\"Surpresa se tirar uma bola verde: {surpresa_v}\")\n",
        "print(f\"Surpresa se tirar uma bola azul: {surpresa_a}\")"
      ],
      "metadata": {
        "colab": {
          "base_uri": "https://localhost:8080/"
        },
        "id": "MgwGHPZzeIU2",
        "outputId": "80d790f5-7cdd-4486-e56d-688efe015b2e"
      },
      "execution_count": null,
      "outputs": [
        {
          "output_type": "stream",
          "name": "stdout",
          "text": [
            "Surpresa se tirar uma bola verde: 1.9459101490553132\n",
            "Surpresa se tirar uma bola azul: 0.15415067982725836\n"
          ]
        }
      ]
    },
    {
      "cell_type": "markdown",
      "source": [
        "## Gráfico\n",
        "\n",
        "O gráfico agora para no 1. Veja:\n",
        "\n",
        "![image.png](data:image/png;base64,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)\n"
      ],
      "metadata": {
        "id": "kkXFB6lbfrPU"
      }
    },
    {
      "cell_type": "markdown",
      "source": [
        "## Probabilidades\n",
        "\n",
        "Dito isso, vemos que podemos usar o conceito de entropia quando estuda distribuições de probabilidade. A entropia é uma medida útil para quantificar a incerteza associada a uma distribuição de probabilidade.\n",
        "\n",
        "Ao lidar com distribuições de probabilidade, a entropia de Shannon é frequentemente usada para avaliar o quão \"desordenada\" ou \"incerta\" é a distribuição. Quanto maior a entropia, maior a incerteza associada à distribuição. Veja algumas aplicações:\n",
        "\n",
        "1. Avaliação da Incerteza: A entropia pode ser usada para quantificar o grau de incerteza em uma distribuição. **Por exemplo, em uma distribuição uniforme, onde todos os eventos são igualmente prováveis, a entropia é máxima.**\n",
        "\n",
        "2. Comparação de Distribuições: Você pode usar a entropia para comparar diferentes distribuições de probabilidade. **A distribuição com maior entropia terá maior incerteza.**\n",
        "\n",
        "3. Codificação de Fontes: Em teoria da informação, a entropia é usada para projetar códigos de compressão eficientes. Distribuições com alta entropia tendem a se beneficiar mais de técnicas de compressão.\n",
        "\n",
        "4. Tomada de Decisão: A entropia pode ser usada em teoria de decisão para avaliar a incerteza associada a diferentes escolhas.\n",
        "\n",
        "5. Teoria dos Jogos: A entropia é utilizada em teoria dos jogos para medir a incerteza estratégica em um jogo.\n",
        "\n"
      ],
      "metadata": {
        "id": "CA6qEl1GwICE"
      }
    },
    {
      "cell_type": "markdown",
      "source": [
        "### Exemplo da entropia no lançamento de um dado\n",
        "\n",
        "Vamos analisar há algum padrão em distribuições de determinado tipo quanto à sua entropia.\n",
        "\n",
        "Começando pela distribuição uniforme mais famosa, o lançamento de um dado:\n",
        "\n",
        "- A distribuição de um dado é **uniforme**, como todos sabemos, ou seja, todas as faces tem chances iguais de aparecerem num lançamento aleatório\n",
        "- A distribuição de um dado viciado, ou de um outro sistema, que também possua 6 eventos possíveis, será interessante para efeito de comperação\n",
        "\n",
        "Ou seja, **vamos comparar a entropia em um sistema uniforme com outro de distribuição aleatória**"
      ],
      "metadata": {
        "id": "-Wi09N2JmJu1"
      }
    },
    {
      "cell_type": "markdown",
      "source": [
        "## 1 - Criando algumas funções auxiliares\n",
        "Note que é opcional a criação, mas como todo bom programador adora criar funções e recursos para deixar na sua caixa de ferramentas, vamos a elas:"
      ],
      "metadata": {
        "id": "KyIFV1Eue80I"
      }
    },
    {
      "cell_type": "code",
      "source": [
        "# Função que, dado  um n (tamanho do espaço amostral), retorna a distribuição uniforme de probabilidades\n",
        "#Exemplo: Para cara e coroa, usariamos a função com o parâmetro de entrada 2, retornando-nos uma lista com [0.5, 0.5]\n",
        "\n",
        "def uniforme(n):\n",
        "  lista = []\n",
        "  for i in range(0,n):\n",
        "    termo = 1/n\n",
        "    lista.append(termo)\n",
        "  return lista\n",
        "\n",
        "\n",
        "# Função que, dado o mesmo n, retorna uma distribuição aleatória\n",
        "\n",
        "def dist_aleatoria(n):\n",
        "    if n <= 0:\n",
        "        raise ValueError(\"O tamanho da distribuição deve ser maior que zero.\")\n",
        "\n",
        "    probabilidades = [random.random() for _ in range(n)]\n",
        "    soma = sum(probabilidades)\n",
        "    dist = [prob / soma for prob in probabilidades]\n",
        "\n",
        "    return dist\n",
        "\n"
      ],
      "metadata": {
        "id": "kDJ9l4NVbrFL"
      },
      "execution_count": null,
      "outputs": []
    },
    {
      "cell_type": "markdown",
      "source": [
        "## a)  Verificando entropia de um sistema uniforme"
      ],
      "metadata": {
        "id": "g7moFKM1htZl"
      }
    },
    {
      "cell_type": "code",
      "source": [
        "# Exemplo 1: distribuição de probabilidade para um dado não viciado. Pelo ponto 1, vemos que, nas condições do problema, a entropia resultante será máxima.\n",
        "prob_dado = uniforme(6)\n",
        "\n",
        "entropia_dado = calcular_entropia(prob_dado)\n",
        "print(f\"A entropia do dado com distribuição uniforme é: {entropia_dado}\")\n"
      ],
      "metadata": {
        "colab": {
          "base_uri": "https://localhost:8080/"
        },
        "id": "BpMe24E2u6Ch",
        "outputId": "6614f4a7-4cbb-4ad5-cba7-74daed75aa28"
      },
      "execution_count": null,
      "outputs": [
        {
          "output_type": "stream",
          "name": "stdout",
          "text": [
            "A entropia do dado com distribuição uniforme é: 1.7917594692280547\n"
          ]
        }
      ]
    },
    {
      "cell_type": "code",
      "source": [
        "# Exemplo de uso\n",
        "probabilidades = [1/6, 1/6, 1/6, 1/6, 1/6, 1/6]\n",
        "entropia = calcular_entropia(probabilidades)\n",
        "print(entropia)"
      ],
      "metadata": {
        "colab": {
          "base_uri": "https://localhost:8080/"
        },
        "id": "qMY-N8CM5s4g",
        "outputId": "3b227e00-4bc4-47a6-e962-c580b47bf13b"
      },
      "execution_count": null,
      "outputs": [
        {
          "output_type": "stream",
          "name": "stdout",
          "text": [
            "1.7917594692280547\n"
          ]
        }
      ]
    },
    {
      "cell_type": "markdown",
      "source": [
        "## b)  Verificando entropia de um sistema não uniforme"
      ],
      "metadata": {
        "id": "HIE_ydY5iTVv"
      }
    },
    {
      "cell_type": "code",
      "source": [
        "\n",
        "# Exemplo 2: distribuição de probabilidade para uma amostra em um espaço amostral de tamanho 6. A entropia desse sistema qualquer é menor do que a do sistema do dado não viciado\n",
        "prob_dado2 = dist_aleatoria(6)\n",
        "\n",
        "entropia_dado2 = calcular_entropia(prob_dado2)\n",
        "print(f\"A entropia do dado SEM distribuição uniforme é: {entropia_dado2}\")\n",
        "\n",
        "\n",
        "\n"
      ],
      "metadata": {
        "colab": {
          "base_uri": "https://localhost:8080/"
        },
        "id": "eKWkOphAWBE-",
        "outputId": "34be3828-cc06-433f-fe2e-2893978b7f77"
      },
      "execution_count": null,
      "outputs": [
        {
          "output_type": "stream",
          "name": "stdout",
          "text": [
            "A entropia do dado SEM distribuição uniforme é: 1.7019852804566609\n"
          ]
        }
      ]
    },
    {
      "cell_type": "markdown",
      "source": [
        "Pela variação estocástica, é claro que a entropia não será sempre a mesma quando rodamos o código várias vezes, mas **a entropia do sistema de distribuição qualquer nunca chega a ser igual à entropia do sistema uniforme**"
      ],
      "metadata": {
        "id": "gPkKSSMQi-jV"
      }
    },
    {
      "cell_type": "markdown",
      "source": [
        "###**E as outras distribuições...**\n",
        "\n",
        "A famigerada distribuição normal também apresenta um certo padrão entrópico.\n",
        "\n",
        "Como ela se concentra ao redor da média, a sua entropia é menor do que, por exemplo, a entropia de uma distribuição uniforme. Mas será que é menor do que uma distribuição aleatória qualquer fornecida pela nossa função?\n",
        "Para isso, vou usar um DataFrame que usei em outro notebook para explicar o Standard Scaler (inclusive, o [link](https://medium.com/@mhvasconcelos/distribui%C3%A7%C3%A3o-normal-e-a-biblioteca-standard-scaler-em-python-f21c52070c6b) para o artigo que eu escrevi sobre no Medium tá aqui)"
      ],
      "metadata": {
        "id": "BKkeJ_N5lILU"
      }
    },
    {
      "cell_type": "markdown",
      "source": [
        "## Criando o DataFrame\n",
        "A tabela monitora o horário de entrada de alunos em uma faculdade. Ela segue uma distribuição normal em torno de 10h:"
      ],
      "metadata": {
        "id": "KTSxUHAjqN0k"
      }
    },
    {
      "cell_type": "code",
      "source": [
        "\n",
        "\n",
        "df = pd.DataFrame(\n",
        "[('Nicolas Miqueias', 10),\n",
        "('Cleiton Araújo', 10),\n",
        "('Artur Martins', 10),\n",
        "('Ernani Sousa', 10),\n",
        "('Eduardo Gomes', 8),\n",
        "('Guilherme Bastos', 8),\n",
        "('Lucas Santos', 12),\n",
        "('Larissa Santos', 12),\n",
        "('Lia Souza', 6),\n",
        "('Rafael Peres', 14)],\n",
        "columns=('nome', 'horário'))\n",
        "\n",
        "\n",
        "df"
      ],
      "metadata": {
        "colab": {
          "base_uri": "https://localhost:8080/",
          "height": 363
        },
        "id": "WCAFca5CxNCq",
        "outputId": "e4559404-a100-4cd2-f8b5-4a3c6d5d3335"
      },
      "execution_count": null,
      "outputs": [
        {
          "output_type": "execute_result",
          "data": {
            "text/plain": [
              "               nome  horário\n",
              "0  Nicolas Miqueias       10\n",
              "1    Cleiton Araújo       10\n",
              "2     Artur Martins       10\n",
              "3      Ernani Sousa       10\n",
              "4     Eduardo Gomes        8\n",
              "5  Guilherme Bastos        8\n",
              "6      Lucas Santos       12\n",
              "7    Larissa Santos       12\n",
              "8         Lia Souza        6\n",
              "9      Rafael Peres       14"
            ],
            "text/html": [
              "\n",
              "  <div id=\"df-272cee4d-f2d3-46ee-8169-c5caa18238fe\" class=\"colab-df-container\">\n",
              "    <div>\n",
              "<style scoped>\n",
              "    .dataframe tbody tr th:only-of-type {\n",
              "        vertical-align: middle;\n",
              "    }\n",
              "\n",
              "    .dataframe tbody tr th {\n",
              "        vertical-align: top;\n",
              "    }\n",
              "\n",
              "    .dataframe thead th {\n",
              "        text-align: right;\n",
              "    }\n",
              "</style>\n",
              "<table border=\"1\" class=\"dataframe\">\n",
              "  <thead>\n",
              "    <tr style=\"text-align: right;\">\n",
              "      <th></th>\n",
              "      <th>nome</th>\n",
              "      <th>horário</th>\n",
              "    </tr>\n",
              "  </thead>\n",
              "  <tbody>\n",
              "    <tr>\n",
              "      <th>0</th>\n",
              "      <td>Nicolas Miqueias</td>\n",
              "      <td>10</td>\n",
              "    </tr>\n",
              "    <tr>\n",
              "      <th>1</th>\n",
              "      <td>Cleiton Araújo</td>\n",
              "      <td>10</td>\n",
              "    </tr>\n",
              "    <tr>\n",
              "      <th>2</th>\n",
              "      <td>Artur Martins</td>\n",
              "      <td>10</td>\n",
              "    </tr>\n",
              "    <tr>\n",
              "      <th>3</th>\n",
              "      <td>Ernani Sousa</td>\n",
              "      <td>10</td>\n",
              "    </tr>\n",
              "    <tr>\n",
              "      <th>4</th>\n",
              "      <td>Eduardo Gomes</td>\n",
              "      <td>8</td>\n",
              "    </tr>\n",
              "    <tr>\n",
              "      <th>5</th>\n",
              "      <td>Guilherme Bastos</td>\n",
              "      <td>8</td>\n",
              "    </tr>\n",
              "    <tr>\n",
              "      <th>6</th>\n",
              "      <td>Lucas Santos</td>\n",
              "      <td>12</td>\n",
              "    </tr>\n",
              "    <tr>\n",
              "      <th>7</th>\n",
              "      <td>Larissa Santos</td>\n",
              "      <td>12</td>\n",
              "    </tr>\n",
              "    <tr>\n",
              "      <th>8</th>\n",
              "      <td>Lia Souza</td>\n",
              "      <td>6</td>\n",
              "    </tr>\n",
              "    <tr>\n",
              "      <th>9</th>\n",
              "      <td>Rafael Peres</td>\n",
              "      <td>14</td>\n",
              "    </tr>\n",
              "  </tbody>\n",
              "</table>\n",
              "</div>\n",
              "    <div class=\"colab-df-buttons\">\n",
              "\n",
              "  <div class=\"colab-df-container\">\n",
              "    <button class=\"colab-df-convert\" onclick=\"convertToInteractive('df-272cee4d-f2d3-46ee-8169-c5caa18238fe')\"\n",
              "            title=\"Convert this dataframe to an interactive table.\"\n",
              "            style=\"display:none;\">\n",
              "\n",
              "  <svg xmlns=\"http://www.w3.org/2000/svg\" height=\"24px\" viewBox=\"0 -960 960 960\">\n",
              "    <path d=\"M120-120v-720h720v720H120Zm60-500h600v-160H180v160Zm220 220h160v-160H400v160Zm0 220h160v-160H400v160ZM180-400h160v-160H180v160Zm440 0h160v-160H620v160ZM180-180h160v-160H180v160Zm440 0h160v-160H620v160Z\"/>\n",
              "  </svg>\n",
              "    </button>\n",
              "\n",
              "  <style>\n",
              "    .colab-df-container {\n",
              "      display:flex;\n",
              "      gap: 12px;\n",
              "    }\n",
              "\n",
              "    .colab-df-convert {\n",
              "      background-color: #E8F0FE;\n",
              "      border: none;\n",
              "      border-radius: 50%;\n",
              "      cursor: pointer;\n",
              "      display: none;\n",
              "      fill: #1967D2;\n",
              "      height: 32px;\n",
              "      padding: 0 0 0 0;\n",
              "      width: 32px;\n",
              "    }\n",
              "\n",
              "    .colab-df-convert:hover {\n",
              "      background-color: #E2EBFA;\n",
              "      box-shadow: 0px 1px 2px rgba(60, 64, 67, 0.3), 0px 1px 3px 1px rgba(60, 64, 67, 0.15);\n",
              "      fill: #174EA6;\n",
              "    }\n",
              "\n",
              "    .colab-df-buttons div {\n",
              "      margin-bottom: 4px;\n",
              "    }\n",
              "\n",
              "    [theme=dark] .colab-df-convert {\n",
              "      background-color: #3B4455;\n",
              "      fill: #D2E3FC;\n",
              "    }\n",
              "\n",
              "    [theme=dark] .colab-df-convert:hover {\n",
              "      background-color: #434B5C;\n",
              "      box-shadow: 0px 1px 3px 1px rgba(0, 0, 0, 0.15);\n",
              "      filter: drop-shadow(0px 1px 2px rgba(0, 0, 0, 0.3));\n",
              "      fill: #FFFFFF;\n",
              "    }\n",
              "  </style>\n",
              "\n",
              "    <script>\n",
              "      const buttonEl =\n",
              "        document.querySelector('#df-272cee4d-f2d3-46ee-8169-c5caa18238fe button.colab-df-convert');\n",
              "      buttonEl.style.display =\n",
              "        google.colab.kernel.accessAllowed ? 'block' : 'none';\n",
              "\n",
              "      async function convertToInteractive(key) {\n",
              "        const element = document.querySelector('#df-272cee4d-f2d3-46ee-8169-c5caa18238fe');\n",
              "        const dataTable =\n",
              "          await google.colab.kernel.invokeFunction('convertToInteractive',\n",
              "                                                    [key], {});\n",
              "        if (!dataTable) return;\n",
              "\n",
              "        const docLinkHtml = 'Like what you see? Visit the ' +\n",
              "          '<a target=\"_blank\" href=https://colab.research.google.com/notebooks/data_table.ipynb>data table notebook</a>'\n",
              "          + ' to learn more about interactive tables.';\n",
              "        element.innerHTML = '';\n",
              "        dataTable['output_type'] = 'display_data';\n",
              "        await google.colab.output.renderOutput(dataTable, element);\n",
              "        const docLink = document.createElement('div');\n",
              "        docLink.innerHTML = docLinkHtml;\n",
              "        element.appendChild(docLink);\n",
              "      }\n",
              "    </script>\n",
              "  </div>\n",
              "\n",
              "\n",
              "<div id=\"df-de7c38f5-8f36-4f2e-af91-6c640d120fd2\">\n",
              "  <button class=\"colab-df-quickchart\" onclick=\"quickchart('df-de7c38f5-8f36-4f2e-af91-6c640d120fd2')\"\n",
              "            title=\"Suggest charts.\"\n",
              "            style=\"display:none;\">\n",
              "\n",
              "<svg xmlns=\"http://www.w3.org/2000/svg\" height=\"24px\"viewBox=\"0 0 24 24\"\n",
              "     width=\"24px\">\n",
              "    <g>\n",
              "        <path d=\"M19 3H5c-1.1 0-2 .9-2 2v14c0 1.1.9 2 2 2h14c1.1 0 2-.9 2-2V5c0-1.1-.9-2-2-2zM9 17H7v-7h2v7zm4 0h-2V7h2v10zm4 0h-2v-4h2v4z\"/>\n",
              "    </g>\n",
              "</svg>\n",
              "  </button>\n",
              "\n",
              "<style>\n",
              "  .colab-df-quickchart {\n",
              "      --bg-color: #E8F0FE;\n",
              "      --fill-color: #1967D2;\n",
              "      --hover-bg-color: #E2EBFA;\n",
              "      --hover-fill-color: #174EA6;\n",
              "      --disabled-fill-color: #AAA;\n",
              "      --disabled-bg-color: #DDD;\n",
              "  }\n",
              "\n",
              "  [theme=dark] .colab-df-quickchart {\n",
              "      --bg-color: #3B4455;\n",
              "      --fill-color: #D2E3FC;\n",
              "      --hover-bg-color: #434B5C;\n",
              "      --hover-fill-color: #FFFFFF;\n",
              "      --disabled-bg-color: #3B4455;\n",
              "      --disabled-fill-color: #666;\n",
              "  }\n",
              "\n",
              "  .colab-df-quickchart {\n",
              "    background-color: var(--bg-color);\n",
              "    border: none;\n",
              "    border-radius: 50%;\n",
              "    cursor: pointer;\n",
              "    display: none;\n",
              "    fill: var(--fill-color);\n",
              "    height: 32px;\n",
              "    padding: 0;\n",
              "    width: 32px;\n",
              "  }\n",
              "\n",
              "  .colab-df-quickchart:hover {\n",
              "    background-color: var(--hover-bg-color);\n",
              "    box-shadow: 0 1px 2px rgba(60, 64, 67, 0.3), 0 1px 3px 1px rgba(60, 64, 67, 0.15);\n",
              "    fill: var(--button-hover-fill-color);\n",
              "  }\n",
              "\n",
              "  .colab-df-quickchart-complete:disabled,\n",
              "  .colab-df-quickchart-complete:disabled:hover {\n",
              "    background-color: var(--disabled-bg-color);\n",
              "    fill: var(--disabled-fill-color);\n",
              "    box-shadow: none;\n",
              "  }\n",
              "\n",
              "  .colab-df-spinner {\n",
              "    border: 2px solid var(--fill-color);\n",
              "    border-color: transparent;\n",
              "    border-bottom-color: var(--fill-color);\n",
              "    animation:\n",
              "      spin 1s steps(1) infinite;\n",
              "  }\n",
              "\n",
              "  @keyframes spin {\n",
              "    0% {\n",
              "      border-color: transparent;\n",
              "      border-bottom-color: var(--fill-color);\n",
              "      border-left-color: var(--fill-color);\n",
              "    }\n",
              "    20% {\n",
              "      border-color: transparent;\n",
              "      border-left-color: var(--fill-color);\n",
              "      border-top-color: var(--fill-color);\n",
              "    }\n",
              "    30% {\n",
              "      border-color: transparent;\n",
              "      border-left-color: var(--fill-color);\n",
              "      border-top-color: var(--fill-color);\n",
              "      border-right-color: var(--fill-color);\n",
              "    }\n",
              "    40% {\n",
              "      border-color: transparent;\n",
              "      border-right-color: var(--fill-color);\n",
              "      border-top-color: var(--fill-color);\n",
              "    }\n",
              "    60% {\n",
              "      border-color: transparent;\n",
              "      border-right-color: var(--fill-color);\n",
              "    }\n",
              "    80% {\n",
              "      border-color: transparent;\n",
              "      border-right-color: var(--fill-color);\n",
              "      border-bottom-color: var(--fill-color);\n",
              "    }\n",
              "    90% {\n",
              "      border-color: transparent;\n",
              "      border-bottom-color: var(--fill-color);\n",
              "    }\n",
              "  }\n",
              "</style>\n",
              "\n",
              "  <script>\n",
              "    async function quickchart(key) {\n",
              "      const quickchartButtonEl =\n",
              "        document.querySelector('#' + key + ' button');\n",
              "      quickchartButtonEl.disabled = true;  // To prevent multiple clicks.\n",
              "      quickchartButtonEl.classList.add('colab-df-spinner');\n",
              "      try {\n",
              "        const charts = await google.colab.kernel.invokeFunction(\n",
              "            'suggestCharts', [key], {});\n",
              "      } catch (error) {\n",
              "        console.error('Error during call to suggestCharts:', error);\n",
              "      }\n",
              "      quickchartButtonEl.classList.remove('colab-df-spinner');\n",
              "      quickchartButtonEl.classList.add('colab-df-quickchart-complete');\n",
              "    }\n",
              "    (() => {\n",
              "      let quickchartButtonEl =\n",
              "        document.querySelector('#df-de7c38f5-8f36-4f2e-af91-6c640d120fd2 button');\n",
              "      quickchartButtonEl.style.display =\n",
              "        google.colab.kernel.accessAllowed ? 'block' : 'none';\n",
              "    })();\n",
              "  </script>\n",
              "</div>\n",
              "    </div>\n",
              "  </div>\n"
            ]
          },
          "metadata": {},
          "execution_count": 378
        }
      ]
    },
    {
      "cell_type": "markdown",
      "source": [
        "## Explorando informações:\n"
      ],
      "metadata": {
        "id": "11A5wLdOqff5"
      }
    },
    {
      "cell_type": "markdown",
      "source": [
        "- ### Sabemos que uma distribuição normal tem média = moda = mediana"
      ],
      "metadata": {
        "id": "JSGknl_bsapB"
      }
    },
    {
      "cell_type": "code",
      "source": [
        "\n",
        "df['horário'].mean() == df['horário'].median() == df['horário'].mode()[0]\n"
      ],
      "metadata": {
        "colab": {
          "base_uri": "https://localhost:8080/"
        },
        "id": "ovBs0u7cqlAg",
        "outputId": "d167c387-8032-40d8-b470-165abaecdf7b"
      },
      "execution_count": null,
      "outputs": [
        {
          "output_type": "execute_result",
          "data": {
            "text/plain": [
              "True"
            ]
          },
          "metadata": {},
          "execution_count": 379
        }
      ]
    },
    {
      "cell_type": "markdown",
      "source": [
        "- ### Outra informação importante é o desvio padrão dos valores em relação a média:"
      ],
      "metadata": {
        "id": "Llu0fToNsGZ-"
      }
    },
    {
      "cell_type": "code",
      "source": [
        "df['horário'].std()"
      ],
      "metadata": {
        "colab": {
          "base_uri": "https://localhost:8080/"
        },
        "id": "5LL11eXCsLbp",
        "outputId": "2f38b44a-8c31-4fbe-d268-94ead001572b"
      },
      "execution_count": null,
      "outputs": [
        {
          "output_type": "execute_result",
          "data": {
            "text/plain": [
              "2.309401076758503"
            ]
          },
          "metadata": {},
          "execution_count": 380
        }
      ]
    },
    {
      "cell_type": "markdown",
      "source": [
        "- ## Graficamente, podemos ver a distribuição no formato de sino"
      ],
      "metadata": {
        "id": "QDWO2TKvr_2Q"
      }
    },
    {
      "cell_type": "code",
      "source": [
        "sns.distplot(df['horário'],hist = False)\n",
        "plt.xlabel('Horário de Entrada')\n",
        "plt.ylabel('Frequência')\n",
        "plt.title('Distribuição dos Horários de Entrada dos Alunos')\n",
        "\n",
        "# Mostrar o gráfico\n",
        "plt.show()"
      ],
      "metadata": {
        "colab": {
          "base_uri": "https://localhost:8080/",
          "height": 663
        },
        "id": "CcU7ZX9eq1Y9",
        "outputId": "467002cf-ca2b-4ea5-87ca-371972bac8b5"
      },
      "execution_count": null,
      "outputs": [
        {
          "output_type": "stream",
          "name": "stderr",
          "text": [
            "<ipython-input-381-a7d2674925b3>:1: UserWarning: \n",
            "\n",
            "`distplot` is a deprecated function and will be removed in seaborn v0.14.0.\n",
            "\n",
            "Please adapt your code to use either `displot` (a figure-level function with\n",
            "similar flexibility) or `kdeplot` (an axes-level function for kernel density plots).\n",
            "\n",
            "For a guide to updating your code to use the new functions, please see\n",
            "https://gist.github.com/mwaskom/de44147ed2974457ad6372750bbe5751\n",
            "\n",
            "  sns.distplot(df['horário'],hist = False)\n"
          ]
        },
        {
          "output_type": "display_data",
          "data": {
            "text/plain": [
              "<Figure size 640x480 with 1 Axes>"
            ],
            "image/png": "[encoded data removed]"
          },
          "metadata": {}
        }
      ]
    },
    {
      "cell_type": "markdown",
      "source": [
        "## Descobrindo as probabilidades de cada evento (horários)\n",
        "- Claro que a soma das porcentagens não dará exatamente 100%, mas para efeito de didática, vamos arredondar as probabilidades dos eventos que temos para obtermos algo mais \"correto\"."
      ],
      "metadata": {
        "id": "VRCwl2R4si9k"
      }
    },
    {
      "cell_type": "code",
      "source": [
        "media = df['horário'].mean()\n",
        "desvio_padrao = df['horário'].std()\n",
        "\n",
        "# Probabilidade de chegar às 6h\n",
        "prob_6h = norm.cdf(6, loc=media, scale=desvio_padrao)\n",
        "prob_6h = round(prob_6h,2)\n",
        "# Probabilidade de chegar às 8h\n",
        "prob_8h = norm.cdf(8, loc=media, scale=desvio_padrao)\n",
        "prob_8h = round(prob_8h,1)\n",
        "# Probabilidade de chegar às 10h\n",
        "prob_10h = norm.cdf(10, loc=media, scale=desvio_padrao)\n",
        "prob_10h = round(prob_10h,1)\n",
        "# Probabilidade de chegar às 12h\n",
        "prob_12h = 1 - norm.cdf(12, loc=media, scale=desvio_padrao)\n",
        "prob_12h = round(prob_12h,1)\n",
        "# Probabilidade de chegar às 14h\n",
        "prob_14h = 1 - norm.cdf(14, loc=media, scale=desvio_padrao)\n",
        "prob_14h = round(prob_14h,2)\n",
        "\n",
        "print(f\"A probabilidade do aluno sair às 6h é: {prob_6h*100:.2f}%\")\n",
        "print(\"\\n\")\n",
        "print(f\"A probabilidade do aluno sair às 8h é: {prob_8h*100:.2f}%\")\n",
        "print(\"\\n\")\n",
        "print(f\"A probabilidade do aluno sair às 10h é: {prob_10h*100:.2f}%\")\n",
        "print(\"\\n\")\n",
        "print(f\"A probabilidade do aluno sair às 12h é: {prob_12h*100:.2f}%\")\n",
        "print(\"\\n\")\n",
        "print(f\"A probabilidade do aluno sair às 14h é: {prob_14h*100:.2f}%\")\n",
        "print(\"\\n\")\n",
        "\n"
      ],
      "metadata": {
        "colab": {
          "base_uri": "https://localhost:8080/"
        },
        "id": "oOYdULUE_dXN",
        "outputId": "7b2860f7-7e13-4596-da21-b1c5ff90acbf"
      },
      "execution_count": null,
      "outputs": [
        {
          "output_type": "stream",
          "name": "stdout",
          "text": [
            "A probabilidade do aluno sair às 6h é: 4.00%\n",
            "\n",
            "\n",
            "A probabilidade do aluno sair às 8h é: 20.00%\n",
            "\n",
            "\n",
            "A probabilidade do aluno sair às 10h é: 50.00%\n",
            "\n",
            "\n",
            "A probabilidade do aluno sair às 12h é: 20.00%\n",
            "\n",
            "\n",
            "A probabilidade do aluno sair às 14h é: 4.00%\n",
            "\n",
            "\n"
          ]
        }
      ]
    },
    {
      "cell_type": "markdown",
      "source": [
        "Agora sim, temos uma distribuição de probabilidades normal, pelo menos para fins de representação"
      ],
      "metadata": {
        "id": "sblpRYTuRDcF"
      }
    },
    {
      "cell_type": "markdown",
      "source": [
        "## Comparando as entropias das distribuições\n",
        "### Normal X Uniforme\n",
        "\n",
        "Lembrando que:\n",
        "- Na distribuição normal, a incerteza é relativamente baixa, pois a maioria dos eventos está próxima da média.\n",
        "- Na distribuição uniforme, a incerteza é máxima, pois é impossível prever qual valor será observado."
      ],
      "metadata": {
        "id": "QgRqVrPoRJTS"
      }
    },
    {
      "cell_type": "code",
      "source": [
        "# Distribuição Normal\n",
        "\n",
        "prob_nor = [prob_6h, prob_8h, prob_10h, prob_12h, prob_14h]\n",
        "entropia_nor = calcular_entropia(prob_nor)\n",
        "print(f\"A entropia da distribuição NORMAL é: {entropia_nor}\")\n",
        "\n",
        "\n",
        "# Distribuição uniforme\n",
        "\n",
        "prob_uni = uniforme(5)\n",
        "entropia_uni = calcular_entropia(prob_uni)\n",
        "print(f\"A entropia da distribuição UNIFORME é: {entropia_uni}\")"
      ],
      "metadata": {
        "colab": {
          "base_uri": "https://localhost:8080/"
        },
        "id": "1Nn2wwyvPGxw",
        "outputId": "397c4829-d031-4fc5-b04b-427e0bad6b55"
      },
      "execution_count": null,
      "outputs": [
        {
          "output_type": "stream",
          "name": "stdout",
          "text": [
            "A entropia da distribuição NORMAL é: 1.2478588212430688\n",
            "A entropia da distribuição UNIFORME é: 1.6094379124341005\n"
          ]
        }
      ]
    },
    {
      "cell_type": "markdown",
      "source": [
        "Minhas redes:\n",
        "- [Linkedin](https://www.linkedin.com/in/vasconcelosmatheus/)\n",
        "- [Medium](https://medium.com/@mhvasconcelos)"
      ],
      "metadata": {
        "id": "Ut4Kb4W9UaV_"
      }
    },
    {
      "cell_type": "code",
      "source": [],
      "metadata": {
        "id": "NdcYq6sFUbOD"
      },
      "execution_count": null,
      "outputs": []
    }
  ]
}